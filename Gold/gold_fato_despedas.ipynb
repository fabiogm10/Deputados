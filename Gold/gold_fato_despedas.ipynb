{
 "cells": [
  {
   "cell_type": "code",
   "execution_count": 0,
   "metadata": {
    "application/vnd.databricks.v1+cell": {
     "cellMetadata": {
      "byteLimit": 2048000,
      "implicitDf": true,
      "rowLimit": 10000
     },
     "inputWidgets": {},
     "nuid": "7fe12279-d2a9-41e0-a54c-b75c3048f3c4",
     "showTitle": false,
     "tableResultSettingsMap": {},
     "title": ""
    }
   },
   "outputs": [],
   "source": [
    "%sql\n",
    "select\n",
    "        desp.id_deputado,\n",
    "        desp.ano,\n",
    "        desp.cnpj_cpf_fornecedor,\n",
    "        desp.mes,\n",
    "        desp.tipo_despesa,\n",
    "        desp.tipo_documento,\n",
    "        CONCAT(desp.ano, LPAD(desp.mes, 2, '0')) as ano_mes,\n",
    "        cad.sigla_partido,\n",
    "        CURRENT_TIMESTAMP() as data_processamento_fato,\n",
    "        round(sum(desp.valor_documento),2) as valor_documento,\n",
    "        round(sum(desp.valor_liquido),2) as valor_liquido,\n",
    "        round(sum(desp.valor_glosa),2) as valor_glosa,\n",
    "        count(distinct desp.num_documento) as num_documentos\n",
    "    FROM workspace.deputados.silver_despesas_deputados as desp\n",
    "    JOIN workspace.deputados.silver_cadastro_deputados as cad\n",
    "      ON cad.id = desp.id_deputado\n",
    "    group by desp.id_deputado, desp.ano, desp.cnpj_cpf_fornecedor, desp.mes, desp.tipo_despesa, desp.tipo_documento, desp.ano_mes, cad.sigla_partido, cad.sigla_partido\n",
    "    order by desp.id_deputado, desp.ano asc"
   ]
  },
  {
   "cell_type": "code",
   "execution_count": 0,
   "metadata": {
    "application/vnd.databricks.v1+cell": {
     "cellMetadata": {
      "byteLimit": 2048000,
      "rowLimit": 10000
     },
     "inputWidgets": {},
     "nuid": "a47eb43e-68fe-440d-8fdc-c658dd67e01d",
     "showTitle": false,
     "tableResultSettingsMap": {},
     "title": ""
    }
   },
   "outputs": [],
   "source": [
    "df = spark.sql(\"\"\"\n",
    "    select\n",
    "        desp.id_deputado,\n",
    "        desp.ano,\n",
    "        desp.cnpj_cpf_fornecedor,\n",
    "        desp.mes,\n",
    "        desp.tipo_despesa,\n",
    "        desp.tipo_documento,\n",
    "        CONCAT(desp.ano, LPAD(desp.mes, 2, '0')) as ano_mes,\n",
    "        cad.sigla_partido,\n",
    "        CURRENT_TIMESTAMP() as data_processamento_fato,\n",
    "        round(sum(desp.valor_documento),2) as valor_documento,\n",
    "        round(sum(desp.valor_liquido),2) as valor_liquido,\n",
    "        round(sum(desp.valor_glosa),2) as valor_glosa,\n",
    "        count(distinct desp.num_documento) as num_documentos\n",
    "    FROM workspace.deputados.silver_despesas_deputados as desp\n",
    "    JOIN workspace.deputados.silver_cadastro_deputados as cad\n",
    "      ON cad.id = desp.id_deputado\n",
    "    group by desp.id_deputado, desp.ano, desp.cnpj_cpf_fornecedor, desp.mes, desp.tipo_despesa, desp.tipo_documento, desp.ano_mes, cad.sigla_partido, cad.sigla_partido\n",
    "    order by desp.id_deputado, desp.ano asc\n",
    "\"\"\")\n",
    "\n",
    "df.write \\\n",
    "    .format(\"delta\") \\\n",
    "    .mode(\"overwrite\") \\\n",
    "    .option(\"overwriteSchema\", \"true\") \\\n",
    "    .save(\"/Volumes/workspace/deputados/deputados/gold/fato_despesas_dep\")\n",
    "\n",
    "print(\"✅ Tabela gravada com sucesso!\")"
   ]
  },
  {
   "cell_type": "code",
   "execution_count": 0,
   "metadata": {
    "application/vnd.databricks.v1+cell": {
     "cellMetadata": {
      "byteLimit": 2048000,
      "rowLimit": 10000
     },
     "inputWidgets": {},
     "nuid": "2fc37a1b-40d5-49ae-aa93-d7c0c31cf608",
     "showTitle": false,
     "tableResultSettingsMap": {},
     "title": ""
    }
   },
   "outputs": [],
   "source": [
    "# Registra como tabela no catalog (para usar com SQL)\n",
    "df.write \\\n",
    "    .format(\"delta\") \\\n",
    "    .mode(\"overwrite\") \\\n",
    "    .option(\"overwriteSchema\", \"true\") \\\n",
    "    .saveAsTable(\"workspace.deputados.gold_fato_despedas_deputados\")\n",
    "\n",
    "print(\"✅ Tabela 'gold_fato_despedas_deputados' registrada no catalog!\")"
   ]
  }
 ],
 "metadata": {
  "application/vnd.databricks.v1+notebook": {
   "computePreferences": null,
   "dashboards": [],
   "environmentMetadata": {
    "base_environment": "",
    "environment_version": "4"
   },
   "inputWidgetPreferences": null,
   "language": "python",
   "notebookMetadata": {
    "mostRecentlyExecutedCommandWithImplicitDF": {
     "commandId": 8990481757676145,
     "dataframes": [
      "_sqldf"
     ]
    },
    "pythonIndentUnit": 4
   },
   "notebookName": "gold_fato_despedas",
   "widgets": {}
  },
  "language_info": {
   "name": "python"
  }
 },
 "nbformat": 4,
 "nbformat_minor": 0
}
