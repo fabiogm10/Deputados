{
 "cells": [
  {
   "cell_type": "code",
   "execution_count": 0,
   "metadata": {
    "application/vnd.databricks.v1+cell": {
     "cellMetadata": {
      "byteLimit": 2048000,
      "rowLimit": 10000
     },
     "inputWidgets": {},
     "nuid": "61da4a98-066a-4062-99c0-8fa2af9c7332",
     "showTitle": false,
     "tableResultSettingsMap": {},
     "title": ""
    }
   },
   "outputs": [],
   "source": [
    "#Montagem da tabela delta de cadastro de deputados em formato delta table para camada silver\n",
    "\n",
    "from pyspark.sql import functions as F\n",
    "# Caminho do seu arquivo JSON\n",
    "caminho_json = \"dbfs:/Volumes/workspace/deputados/deputados/bronze/cadastro_dep/deputados_*.json\"\n",
    "\n",
    "# Lê o arquivo JSON\n",
    "df = spark.read.option(\"multiline\", \"true\").json(caminho_json)\n",
    "df.printSchema()\n",
    "\n",
    "\n",
    "df_cad_dep = df.select(\n",
    "    F.explode(\"dados\").alias(\"deputado\")\n",
    ").select(\n",
    "    F.col(\"deputado.id\").alias(\"id\")\n",
    "    ,F.col(\"deputado.nome\").alias(\"nome\")\n",
    "    ,F.col(\"deputado.siglaPartido\").alias(\"sigla_partido\")\n",
    "    ,F.col(\"deputado.siglaUf\").alias(\"sigla_uf\")\n",
    "    ,F.col(\"deputado.urlFoto\").alias(\"url_foto\")\n",
    "    #,F.col(\"deputado.href\").alias(\"url_site\")\n",
    "    ,F.col(\"deputado.uri\").alias(\"uri\")\n",
    "    ,F.col(\"deputado.uriPartido\").alias(\"uri_partido\")\n",
    "    ,F.col(\"deputado.idLegislatura\").alias(\"id_legislatura\")\n",
    "    ,F.col(\"deputado.email\").alias(\"email\")\n",
    "\n",
    ")\n",
    "\n",
    "df_cad_dep.show(10)\n",
    "\n",
    "# Adiciona timestamp de processamento\n",
    "df_cad_dep = df_cad_dep \\\n",
    "    .withColumn(\"data_processamento\", F.current_timestamp())\n",
    "\n",
    "# Define o caminho para a Delta Table\n",
    "delta_table_path = \"/Volumes/workspace/deputados/deputados/silver/cad_deputados\"\n",
    "\n",
    "# Cria a Delta Table\n",
    "df_cad_dep.write \\\n",
    "    .format(\"delta\") \\\n",
    "    .mode(\"overwrite\") \\\n",
    "    .option(\"overwriteSchema\", \"true\") \\\n",
    "    .option(\"delta.constraints.pk_id\", \"id IS NOT NULL\") \\\n",
    "    .save(delta_table_path)\n",
    "\n",
    "print(\"✅ Delta Table criada com sucesso!\")\n",
    "print(f\" Local: {delta_table_path}\")\n",
    "\n",
    "\n"
   ]
  },
  {
   "cell_type": "code",
   "execution_count": 0,
   "metadata": {
    "application/vnd.databricks.v1+cell": {
     "cellMetadata": {
      "byteLimit": 2048000,
      "rowLimit": 10000
     },
     "inputWidgets": {},
     "nuid": "7d0665e7-421f-48ee-9100-f894c91f8011",
     "showTitle": false,
     "tableResultSettingsMap": {},
     "title": ""
    }
   },
   "outputs": [],
   "source": [
    "# Registra como tabela no catalog (para usar com SQL)\n",
    "df_cad_dep.write \\\n",
    "    .format(\"delta\") \\\n",
    "    .mode(\"overwrite\") \\\n",
    "    .option(\"overwriteSchema\", \"true\") \\\n",
    "    .option(\"delta.constraints.pk_id\", \"id IS NOT NULL\") \\\n",
    "    .saveAsTable(\"workspace.deputados.silver_cadastro_deputados\")\n",
    "\n",
    "print(\"✅ Tabela 'despesas_deputados' registrada no catalog!\")"
   ]
  },
  {
   "cell_type": "code",
   "execution_count": 0,
   "metadata": {
    "application/vnd.databricks.v1+cell": {
     "cellMetadata": {
      "byteLimit": 2048000,
      "implicitDf": true,
      "rowLimit": 10000
     },
     "inputWidgets": {},
     "nuid": "b2effe9e-b61d-4d0e-b837-04c75e00a9dc",
     "showTitle": false,
     "tableResultSettingsMap": {},
     "title": ""
    }
   },
   "outputs": [],
   "source": [
    "%sql\n",
    "\n",
    "SELECT *\n",
    "FROM workspace.deputados.silver_cadastro_deputados"
   ]
  }
 ],
 "metadata": {
  "application/vnd.databricks.v1+notebook": {
   "computePreferences": null,
   "dashboards": [],
   "environmentMetadata": {
    "base_environment": "",
    "environment_version": "3"
   },
   "inputWidgetPreferences": null,
   "language": "python",
   "notebookMetadata": {
    "mostRecentlyExecutedCommandWithImplicitDF": {
     "commandId": 1959132427366628,
     "dataframes": [
      "_sqldf"
     ]
    },
    "pythonIndentUnit": 4
   },
   "notebookName": "transform_cadastro_deputados",
   "widgets": {}
  },
  "language_info": {
   "name": "python"
  }
 },
 "nbformat": 4,
 "nbformat_minor": 0
}
