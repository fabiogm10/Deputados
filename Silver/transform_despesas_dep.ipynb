{
 "cells": [
  {
   "cell_type": "code",
   "execution_count": 0,
   "metadata": {
    "application/vnd.databricks.v1+cell": {
     "cellMetadata": {
      "byteLimit": 2048000,
      "rowLimit": 10000
     },
     "inputWidgets": {},
     "nuid": "61da4a98-066a-4062-99c0-8fa2af9c7332",
     "showTitle": false,
     "tableResultSettingsMap": {},
     "title": ""
    }
   },
   "outputs": [],
   "source": [
    "#Montagem da tabela delta de cadastro deputado em formato delta table para camada silver\n",
    "\n",
    "from pyspark.sql import functions as F\n",
    "# Caminho do seu arquivo JSON\n",
    "caminho_json = \"dbfs:/Volumes/workspace/deputados/deputados/bronze/despesas/despesas_consolidadas_*.json\"\n",
    "\n",
    "# Lê o arquivo JSON\n",
    "df = spark.read.option(\"multiline\", \"true\").json(caminho_json)\n",
    "#df.printSchema()\n",
    "\n",
    "\n",
    "df_cad_dep = df.select(\n",
    "    F.explode(\"despesas\").alias(\"deputado_despesas\")\n",
    ").select(\n",
    "    # Metadados do deputado\n",
    "    F.col(\"deputado_despesas.idDeputado\").alias(\"id_deputado\"),\n",
    "    F.col(\"deputado_despesas.totalDespesas\").alias(\"total_despesas_deputado\"),\n",
    "    F.col(\"deputado_despesas.totalPaginas\").alias(\"total_paginas\"),\n",
    "    F.col(\"deputado_despesas.dataExtracao\").alias(\"data_extracao_deputado\"),\n",
    "    \n",
    "    # Explode as despesas individuais\n",
    "    F.explode(\"deputado_despesas.dados\").alias(\"despesa\")\n",
    ").select(\n",
    "    # Colunas do deputado\n",
    "    \"id_deputado\",\n",
    "    \"total_despesas_deputado\", \n",
    "    \"total_paginas\",\n",
    "    \"data_extracao_deputado\",\n",
    "    \n",
    "    # Todas as colunas das despesas\n",
    "    F.col(\"despesa.ano\").alias(\"ano\"),\n",
    "    F.col(\"despesa.cnpjCpfFornecedor\").alias(\"cnpj_cpf_fornecedor\"),\n",
    "    F.col(\"despesa.codDocumento\").alias(\"cod_documento\"),\n",
    "    F.col(\"despesa.codLote\").alias(\"cod_lote\"),\n",
    "    F.col(\"despesa.codTipoDocumento\").alias(\"cod_tipo_documento\"),\n",
    "    F.col(\"despesa.dataDocumento\").alias(\"data_documento\"),\n",
    "    F.col(\"despesa.mes\").alias(\"mes\"),\n",
    "    F.col(\"despesa.nomeFornecedor\").alias(\"nome_fornecedor\"),\n",
    "    F.col(\"despesa.numDocumento\").alias(\"num_documento\"),\n",
    "    F.col(\"despesa.numRessarcimento\").alias(\"num_ressarcimento\"),\n",
    "    F.col(\"despesa.parcela\").alias(\"parcela\"),\n",
    "    F.col(\"despesa.tipoDespesa\").alias(\"tipo_despesa\"),\n",
    "    F.col(\"despesa.tipoDocumento\").alias(\"tipo_documento\"),\n",
    "    F.col(\"despesa.urlDocumento\").alias(\"url_documento\"),\n",
    "    F.col(\"despesa.valorDocumento\").alias(\"valor_documento\"),\n",
    "    F.col(\"despesa.valorGlosa\").alias(\"valor_glosa\"),\n",
    "    F.col(\"despesa.valorLiquido\").alias(\"valor_liquido\")\n",
    ")\n",
    "\n",
    "\n",
    "#df_despesas.show(10, truncate=False)\n",
    "# Adiciona timestamp de processamento\n",
    "df_despesas = df_cad_dep \\\n",
    "    .withColumn(\"data_processamento\", F.current_timestamp()) \\\n",
    "    .withColumn(\"ano_mes\", F.date_format(\"data_documento\",'yyyyMM')\n",
    ")\n",
    "# Define o caminho para a Delta Table\n",
    "delta_table_path = \"/Volumes/workspace/deputados/deputados/silver/despesas\"\n",
    "\n",
    "# Cria a Delta Table\n",
    "df_despesas.write \\\n",
    "    .format(\"delta\") \\\n",
    "    .mode(\"overwrite\") \\\n",
    "    .option(\"overwriteSchema\", \"true\") \\\n",
    "    .option(\"delta.constraints.pk_id\", \"id_deputado IS NOT NULL\") \\\n",
    "    .partitionBy(\"ano_mes\") \\\n",
    "    .save(delta_table_path)\n",
    "\n",
    "print(\"✅ Delta Table criada com sucesso!\")\n",
    "print(f\" Local: {delta_table_path}\")\n",
    "\n",
    "\n"
   ]
  },
  {
   "cell_type": "code",
   "execution_count": 0,
   "metadata": {
    "application/vnd.databricks.v1+cell": {
     "cellMetadata": {
      "byteLimit": 2048000,
      "rowLimit": 10000
     },
     "inputWidgets": {},
     "nuid": "7d0665e7-421f-48ee-9100-f894c91f8011",
     "showTitle": false,
     "tableResultSettingsMap": {},
     "title": ""
    }
   },
   "outputs": [],
   "source": [
    "# Registra como tabela no catalog (para usar com SQL)\n",
    "df_despesas.write \\\n",
    "    .format(\"delta\") \\\n",
    "    .mode(\"overwrite\") \\\n",
    "    .option(\"overwriteSchema\", \"true\") \\\n",
    "    .saveAsTable(\"workspace.deputados.silver_despesas_deputados\")\n",
    "\n",
    "print(\"✅ Tabela 'despesas_deputados' registrada no catalog!\")"
   ]
  },
  {
   "cell_type": "code",
   "execution_count": 0,
   "metadata": {
    "application/vnd.databricks.v1+cell": {
     "cellMetadata": {
      "byteLimit": 2048000,
      "implicitDf": true,
      "rowLimit": 10000
     },
     "inputWidgets": {},
     "nuid": "b2effe9e-b61d-4d0e-b837-04c75e00a9dc",
     "showTitle": false,
     "tableResultSettingsMap": {},
     "title": ""
    }
   },
   "outputs": [],
   "source": [
    "%sql\n",
    "\n",
    "SELECT \n",
    "    ano,\n",
    "    mes,\n",
    "    tipo_despesa,\n",
    "    COUNT(*) as quantidade,\n",
    "    SUM(valor_liquido) as valor_total\n",
    "FROM workspace.deputados.silver_despesas_deputados\n",
    "GROUP BY ano, mes ,tipo_despesa\n",
    "ORDER BY valor_total DESC"
   ]
  }
 ],
 "metadata": {
  "application/vnd.databricks.v1+notebook": {
   "computePreferences": null,
   "dashboards": [],
   "environmentMetadata": {
    "base_environment": "",
    "environment_version": "3"
   },
   "inputWidgetPreferences": null,
   "language": "python",
   "notebookMetadata": {
    "mostRecentlyExecutedCommandWithImplicitDF": {
     "commandId": 8152189315878465,
     "dataframes": [
      "_sqldf"
     ]
    },
    "pythonIndentUnit": 4
   },
   "notebookName": "transform_despesas_dep",
   "widgets": {}
  },
  "language_info": {
   "name": "python"
  }
 },
 "nbformat": 4,
 "nbformat_minor": 0
}
