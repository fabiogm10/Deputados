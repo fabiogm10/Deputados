{
 "cells": [
  {
   "cell_type": "code",
   "execution_count": 0,
   "metadata": {
    "application/vnd.databricks.v1+cell": {
     "cellMetadata": {
      "byteLimit": 2048000,
      "rowLimit": 10000
     },
     "inputWidgets": {},
     "nuid": "6b3500b7-257c-46aa-b3a9-d53abeeba185",
     "showTitle": false,
     "tableResultSettingsMap": {},
     "title": ""
    }
   },
   "outputs": [],
   "source": [
    "#Montagem da tabela delta de votacoes de deputados em formato delta table para camada silver\n",
    "\n",
    "from pyspark.sql import functions as F\n",
    "# Caminho do seu arquivo JSON\n",
    "caminho_json = \"dbfs:/Volumes/workspace/deputados/deputados/bronze/votacoes/votacoes*.csv\"\n",
    "\n",
    "# Lê o arquivo JSON\n",
    "df = spark.read.csv(caminho_json,\n",
    "                    header=True,\n",
    "                    inferSchema=True,\n",
    "                    sep=\";\",\n",
    "                    multiLine=True,\n",
    "                    ignoreLeadingWhiteSpace=True\n",
    "                                       \n",
    "                    \n",
    "                    )\n",
    "df.printSchema()\n",
    "df.show(10)"
   ]
  },
  {
   "cell_type": "code",
   "execution_count": 0,
   "metadata": {
    "application/vnd.databricks.v1+cell": {
     "cellMetadata": {
      "byteLimit": 2048000,
      "rowLimit": 10000
     },
     "inputWidgets": {},
     "nuid": "bb6f24e6-1a24-4a15-abcf-7f04949c46e1",
     "showTitle": false,
     "tableResultSettingsMap": {
      "0": {
       "dataGridStateBlob": "{\"version\":1,\"tableState\":{\"columnPinning\":{\"left\":[\"#row_number#\"],\"right\":[]},\"columnSizing\":{},\"columnVisibility\":{}},\"settings\":{\"columns\":{}},\"syncTimestamp\":1760300425066}",
       "filterBlob": null,
       "queryPlanFiltersBlob": null,
       "tableResultIndex": 0
      }
     },
     "title": ""
    }
   },
   "outputs": [],
   "source": [
    "#removendo colunas com links\n",
    "\n",
    "df_votacoes = df.select(\n",
    "    \"id\",\n",
    "    \"data\",\n",
    "    \"idOrgao\",\n",
    "    \"siglaOrgao\",\n",
    "    \"idEvento\",\n",
    "    \"aprovacao\",\n",
    "    \"votosSim\" ,\n",
    "    \"votosNao\",\n",
    "    \"votosOutros\",\n",
    "    \"descricao\",\n",
    "    \"ultimaAberturaVotacao_dataHoraRegistro\",\n",
    "    \"ultimaAberturaVotacao_descricao\",\n",
    "    \"ultimaApresentacaoProposicao_dataHoraRegistro\",\n",
    "    \"ultimaApresentacaoProposicao_descricao\",\n",
    "    \"ultimaApresentacaoProposicao_idProposicao\"\n",
    "\n",
    "    \n",
    ")\n",
    "\n",
    "display(df_votacoes)"
   ]
  },
  {
   "cell_type": "code",
   "execution_count": 0,
   "metadata": {
    "application/vnd.databricks.v1+cell": {
     "cellMetadata": {
      "byteLimit": 2048000,
      "rowLimit": 10000
     },
     "inputWidgets": {},
     "nuid": "e0545855-0629-45b3-82ed-ec4ca0732f78",
     "showTitle": false,
     "tableResultSettingsMap": {
      "0": {
       "dataGridStateBlob": "{\"version\":1,\"tableState\":{\"columnPinning\":{\"left\":[\"#row_number#\"],\"right\":[]},\"columnSizing\":{},\"columnVisibility\":{}},\"settings\":{\"columns\":{}},\"syncTimestamp\":1760303077187}",
       "filterBlob": null,
       "queryPlanFiltersBlob": null,
       "tableResultIndex": 0
      }
     },
     "title": ""
    }
   },
   "outputs": [],
   "source": [
    "# remocao da lista registros invalidos com ID \"\".\"\n",
    "df_votacoes = df_votacoes.select('*').filter(df['id'] != '\"\".\"')\n",
    "#df_votacoes = df.select('*').filter(df['uri'] == '2523873')\n",
    "\n",
    "display(df_votacoes)\n"
   ]
  },
  {
   "cell_type": "code",
   "execution_count": 0,
   "metadata": {
    "application/vnd.databricks.v1+cell": {
     "cellMetadata": {
      "byteLimit": 2048000,
      "rowLimit": 10000
     },
     "inputWidgets": {},
     "nuid": "533697e5-550a-4cd0-8778-1f12c97b2867",
     "showTitle": false,
     "tableResultSettingsMap": {},
     "title": ""
    }
   },
   "outputs": [],
   "source": [
    "#Gravando a tabela delta\n",
    "caminho_siver_votacoes = \"/Volumes/workspace/deputados/deputados/silver/votacoes\"\n",
    "df_votacoes.write.format(\"delta\").mode(\"overwrite\").save(caminho_siver_votacoes)\n",
    "print(\"✅ Tabela 'votacoes deputados' gravada !\")"
   ]
  },
  {
   "cell_type": "code",
   "execution_count": 0,
   "metadata": {
    "application/vnd.databricks.v1+cell": {
     "cellMetadata": {
      "byteLimit": 2048000,
      "rowLimit": 10000
     },
     "inputWidgets": {},
     "nuid": "130c239b-f4f4-4011-8434-b7616bfba5fa",
     "showTitle": false,
     "tableResultSettingsMap": {},
     "title": ""
    }
   },
   "outputs": [],
   "source": [
    "# Registra como tabela no catalog (para usar com SQL)\n",
    "df_votacoes.write \\\n",
    "    .format(\"delta\") \\\n",
    "    .mode(\"overwrite\") \\\n",
    "    .saveAsTable(\"workspace.deputados.silver_votacoes_deputados\")\n",
    "\n",
    "print(\"✅ Tabela votacoes registrada no catalog!\")"
   ]
  }
 ],
 "metadata": {
  "application/vnd.databricks.v1+notebook": {
   "computePreferences": null,
   "dashboards": [],
   "environmentMetadata": {
    "base_environment": "",
    "environment_version": "4"
   },
   "inputWidgetPreferences": null,
   "language": "python",
   "notebookMetadata": {
    "pythonIndentUnit": 4
   },
   "notebookName": "transform_votacoes_camara",
   "widgets": {}
  },
  "language_info": {
   "name": "python"
  }
 },
 "nbformat": 4,
 "nbformat_minor": 0
}
