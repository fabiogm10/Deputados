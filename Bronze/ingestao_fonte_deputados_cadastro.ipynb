{
 "cells": [
  {
   "cell_type": "code",
   "execution_count": 0,
   "metadata": {
    "application/vnd.databricks.v1+cell": {
     "cellMetadata": {
      "byteLimit": 2048000,
      "rowLimit": 10000
     },
     "inputWidgets": {},
     "nuid": "b57a6c85-793d-47e2-a5f2-073ad5b087d6",
     "showTitle": false,
     "tableResultSettingsMap": {},
     "title": ""
    }
   },
   "outputs": [],
   "source": [
    "def buscar_deputados():\n",
    "\n",
    "    import requests\n",
    "    import json\n",
    "    from datetime import datetime\n",
    "\n",
    "    pasta_destino = \"/Volumes/workspace/deputados/deputados/bronze/\"\n",
    "\n",
    "    url_api = \"https://dadosabertos.camara.leg.br/api/v2/deputados\"\n",
    "\n",
    "    try:\n",
    "        print(\"Buscando dados dos deputados...\")\n",
    "\n",
    "        response = requests.get(url_api)\n",
    "        response.raise_for_status()\n",
    "        dados_deputados = response.json()\n",
    "\n",
    "        print(f\"Encontrados {len(dados_deputados['dados'])} deputados\")\n",
    "\n",
    "        timestamp = datetime.now().strftime(\"%Y%m%d_%H%M%S\")\n",
    "        nome_arquivo = f\"deputados_{timestamp}.json\"\n",
    "        caminho_completo = f\"{pasta_destino}/{nome_arquivo}\"\n",
    "\n",
    "        dbutils.fs.mkdirs(pasta_destino)\n",
    "\n",
    "        with open(caminho_completo, 'w', encoding='utf-8') as f:\n",
    "            json.dump(dados_deputados, f, ensure_ascii=False, indent=2)\n",
    "\n",
    "        print(f\"✅ Arquivo salvo com sucesso: {caminho_completo}\")\n",
    "        return caminho_completo\n",
    "\n",
    "    except Exception as e:\n",
    "        print(f\"❌ Erro: {e}\")\n",
    "        return None"
   ]
  },
  {
   "cell_type": "code",
   "execution_count": 0,
   "metadata": {
    "application/vnd.databricks.v1+cell": {
     "cellMetadata": {
      "byteLimit": 2048000,
      "rowLimit": 10000
     },
     "inputWidgets": {},
     "nuid": "af0fccfd-2aff-4d47-bd83-b6d24bcadf3f",
     "showTitle": false,
     "tableResultSettingsMap": {},
     "title": ""
    }
   },
   "outputs": [],
   "source": [
    "caminho_arquivo = buscar_deputados()"
   ]
  },
  {
   "cell_type": "code",
   "execution_count": 0,
   "metadata": {
    "application/vnd.databricks.v1+cell": {
     "cellMetadata": {
      "byteLimit": 2048000,
      "rowLimit": 10000
     },
     "inputWidgets": {},
     "nuid": "be9877ce-b264-4648-8078-f5eabe258173",
     "showTitle": false,
     "tableResultSettingsMap": {},
     "title": ""
    }
   },
   "outputs": [],
   "source": [
    "# Caminho do seu arquivo JSON\n",
    "caminho_json = \"dbfs:/Volumes/workspace/deputados/deputados/deputados_20250929_204600.json\"\n",
    "\n",
    "# Lê o arquivo JSON\n",
    "df = spark.read.option(\"multiline\", \"true\").json(caminho_json)\n",
    "df.printSchema()\n"
   ]
  },
  {
   "cell_type": "code",
   "execution_count": 0,
   "metadata": {
    "application/vnd.databricks.v1+cell": {
     "cellMetadata": {
      "byteLimit": 2048000,
      "rowLimit": 10000
     },
     "inputWidgets": {},
     "nuid": "7841105d-2017-441e-a4b8-0b78227441b0",
     "showTitle": false,
     "tableResultSettingsMap": {},
     "title": ""
    }
   },
   "outputs": [],
   "source": [
    "from pyspark.sql import functions as F\n",
    "\n",
    "# Extrai apenas os IDs do array 'dados'\n",
    "df_ids = df.select(\n",
    "    F.explode(\"dados\").alias(\"deputado\")\n",
    ").select(\n",
    "    F.col(\"deputado.id\").alias(\"id\")\n",
    ")\n",
    "\n",
    "df_ids.show(10)"
   ]
  }
 ],
 "metadata": {
  "application/vnd.databricks.v1+notebook": {
   "computePreferences": null,
   "dashboards": [],
   "environmentMetadata": {
    "base_environment": "",
    "environment_version": "3"
   },
   "inputWidgetPreferences": null,
   "language": "python",
   "notebookMetadata": {
    "pythonIndentUnit": 4
   },
   "notebookName": "ingestao_fonte_deputados_cadastro",
   "widgets": {}
  },
  "language_info": {
   "name": "python"
  }
 },
 "nbformat": 4,
 "nbformat_minor": 0
}
