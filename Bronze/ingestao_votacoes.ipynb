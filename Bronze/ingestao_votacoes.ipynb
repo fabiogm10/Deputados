{
 "cells": [
  {
   "cell_type": "code",
   "execution_count": 0,
   "metadata": {
    "application/vnd.databricks.v1+cell": {
     "cellMetadata": {
      "byteLimit": 2048000,
      "rowLimit": 10000
     },
     "inputWidgets": {},
     "nuid": "01cefb3a-2b58-4b8f-a114-388320e4091b",
     "showTitle": false,
     "tableResultSettingsMap": {},
     "title": ""
    }
   },
   "outputs": [],
   "source": [
    "import requests\n",
    "from datetime import datetime\n",
    "import os\n",
    "\n",
    "timestamp = datetime.now().strftime(\"%Y%m%d_%H%M%S\")\n",
    "ano = 2025\n",
    "formato = \"csv\"\n",
    "url = (\n",
    "    f\"http://dadosabertos.camara.leg.br/arquivos/votacoes/{formato}/votacoes-{ano}.{formato}\"\n",
    ")\n",
    "dest_dir = \"/Volumes/workspace/deputados/deputados/bronze/votacoes\"\n",
    "os.makedirs(dest_dir, exist_ok=True)\n",
    "destino = (\n",
    "    f\"{dest_dir}/votacoes-{ano}_{timestamp}.{formato}\"\n",
    ")\n",
    "\n",
    "response = requests.get(url)\n",
    "response.raise_for_status()\n",
    "\n",
    "with open(destino, \"wb\") as f:\n",
    "    f.write(response.content)\n",
    "\n",
    "print(f\"✅ Arquivo salvo com sucesso: {destino}\")\n",
    "        "
   ]
  }
 ],
 "metadata": {
  "application/vnd.databricks.v1+notebook": {
   "computePreferences": null,
   "dashboards": [],
   "environmentMetadata": {
    "base_environment": "",
    "environment_version": "4"
   },
   "inputWidgetPreferences": null,
   "language": "python",
   "notebookMetadata": {
    "pythonIndentUnit": 4
   },
   "notebookName": "ingestao_votacoes",
   "widgets": {}
  },
  "language_info": {
   "name": "python"
  }
 },
 "nbformat": 4,
 "nbformat_minor": 0
}
